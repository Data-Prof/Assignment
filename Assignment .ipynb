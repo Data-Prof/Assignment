{
 "cells": [
  {
   "cell_type": "markdown",
   "id": "07d409f8-e341-469c-bc0a-2746e0f490e6",
   "metadata": {},
   "source": [
    "# My Jupyter Notebook on IBM Watson Studio"
   ]
  },
  {
   "cell_type": "markdown",
   "id": "47e8fa7d-c034-45c0-8ad9-fe5682ce9e81",
   "metadata": {},
   "source": [
    "**AHMAD SHADID** my current occupation is teacher"
   ]
  },
  {
   "cell_type": "markdown",
   "id": "66943098-43b7-496d-aa45-96386f0e9272",
   "metadata": {},
   "source": [
    "*I am interested in data science cause I love to deal with statistics and telling stories based on them*"
   ]
  },
  {
   "cell_type": "markdown",
   "id": "3859d977-8522-49f1-883a-5c4be05b2157",
   "metadata": {},
   "source": [
    "### My code will print my name and nationality "
   ]
  },
  {
   "cell_type": "code",
   "execution_count": 5,
   "id": "be1d05c5-2fd6-405c-b080-1da7208cc931",
   "metadata": {},
   "outputs": [
    {
     "name": "stdout",
     "output_type": "stream",
     "text": [
      "My name is ahmad\n",
      "MY Nationality is Jordanian\n"
     ]
    }
   ],
   "source": [
    "print('My name is ahmad')\n",
    "print('MY Nationality is Jordanian')"
   ]
  },
  {
   "cell_type": "markdown",
   "id": "f77ae6b7-996c-437f-82ca-40798a7ca838",
   "metadata": {},
   "source": [
    "*** \n",
    "\n",
    "1-Number 1\n",
    "2-Number 2\n",
    "3-Number 3\n",
    "\n",
    "\n",
    "> Blocked QUOTE \n",
    ">blocked quote\n",
    "\n",
    "`My Code`\n",
    "\n",
    "* data 1\n",
    "* data 2\n",
    "* data 3\n",
    "- data 4\n",
    "- data 5\n",
    "- data 6\n",
    "\n"
   ]
  },
  {
   "cell_type": "code",
   "execution_count": null,
   "id": "d86fc136-5313-49b5-8b92-e1cce157965a",
   "metadata": {},
   "outputs": [],
   "source": []
  }
 ],
 "metadata": {
  "kernelspec": {
   "display_name": "Python",
   "language": "python",
   "name": "conda-env-python-py"
  },
  "language_info": {
   "codemirror_mode": {
    "name": "ipython",
    "version": 3
   },
   "file_extension": ".py",
   "mimetype": "text/x-python",
   "name": "python",
   "nbconvert_exporter": "python",
   "pygments_lexer": "ipython3",
   "version": "3.7.12"
  }
 },
 "nbformat": 4,
 "nbformat_minor": 5
}
